{
 "cells": [
  {
   "cell_type": "markdown",
   "metadata": {},
   "source": [
    "# STA130 Homework 04 \n",
    "\n",
    "Please see the course [wiki-textbook](https://github.com/pointOfive/stat130chat130/wiki) for the list of topics covered in this homework assignment, and a list of topics that might appear during ChatBot conversations which are \"out of scope\" for the purposes of this homework assignment (and hence can be safely ignored if encountered)"
   ]
  },
  {
   "cell_type": "markdown",
   "metadata": {},
   "source": [
    "### Marking Rubric (which may award partial credit) \n",
    "\n",
    "- [0.1 points]: All relevant ChatBot summaries [including link(s) to chat log histories if you're using ChatGPT] are reported within the notebook\n",
    "- [0.2 points]: Evaluation of correctness and effectiveness of written communication for Question \"1\"\n",
    "<!-- - [0.3 points]: Correctness of understanding confirmed by code comments and relevant ChatBot summaries [including link(s) to chat log histories if you're using ChatGPT] for Question \"4\" -->\n",
    "- [0.3 points]: Evaluation of correctness and effectiveness of written communication for Question \"6\"\n",
    "- [0.4 points]: Evaluation of submission for Question \"8\" "
   ]
  },
  {
   "cell_type": "markdown",
   "metadata": {},
   "source": [
    "Chat_log for question 1-3:https://chatgpt.com/share/66fa2d8b-15b4-8008-aaee-66e931532bd7 <br>\n",
    "for question 4-5:https://chatgpt.com/share/66fce192-00bc-8008-9277-836d1a922047 <br>\n",
    "for question 8: https://chatgpt.com/share/66fe1b7a-9b24-8008-ae76-2348d2c7c483"
   ]
  },
  {
   "cell_type": "markdown",
   "metadata": {},
   "source": [
    "### 1. The \"Pre-lecture\" video (above) mentioned the \"standard error of the mean\" as being the \"standard deviation\" of the distribution bootstrapped means.  What is the difference between the \"standard error of the mean\" and the \"standard deviation\" of the original data? What distinct ideas do each of these capture? Explain this concisely in your own words.<br>\n"
   ]
  },
  {
   "cell_type": "markdown",
   "metadata": {},
   "source": [
    "_**Standard deviation(SD)**_ is a property for one dataset, it can be the sample we select or the population. It describes how the individual datas distribute around the mean. This is a fixed value for a fixed dataset. A low SD value means the data points are close to the mean. <br>\n",
    "_**Sample error of means(SEM)**_ focus on the sample selected from the whole population. It describes the difference between the sample mean and the polulation mean (can be seen as a measure for the accuracy of a sample). The SEM can be different for different samples. A lower SEM value means the sample mean is more accurate estimate for the population mean. "
   ]
  },
  {
   "cell_type": "markdown",
   "metadata": {},
   "source": [
    "**Trivial idea**<br>\n",
    "So, overall, bootstrapping can simulate the process of sampling from the population. Therefore, we can derive some relationships between the sample and the population from the bootstrapped data’s distribution, such as the SEM. Then, we attribute the bias in the distribution to the issues inherent in the sample itself, which we refer to as the SEM. This should be a valid way to understand it, right...?"
   ]
  },
  {
   "cell_type": "markdown",
   "metadata": {},
   "source": [
    "### 2. The \"Pre-lecture\" video (above) suggested that the \"standard error of the mean\" could be used to create a confidence interval, but didn't describe exactly how to do this.  How can we use the \"standard error of the mean\" to create a 95% confidence interval which \"covers 95% of the bootstrapped sample means\"? Explain this concisely in your own words.<br>\n"
   ]
  },
  {
   "cell_type": "markdown",
   "metadata": {},
   "source": [
    "Before calculating, we need to clarify that the SEM of the sample and the SD of the histogram of the sample means obtained through bootstrapping are similar. The latter has a similar statistical significance to the former, and we can even say that these two quantities are equal. They both describe the variability of the data.<br>\n",
    "\n",
    "So now we need to use the properties of the normal distribution. If the sample size is large, the sample mean will follow a normal distribution.<br>\n",
    "To achieve a 95% confidence level, we need to ensure that our confidence interval contains 95% of the area under the distribution curve.<br>\n",
    "Therefore, we need to set the boundaries of the confidence interval to be 1.96 standard deviations away from the mean (the axis of symmetry) to ensure that it covers 95% of the area."
   ]
  },
  {
   "cell_type": "markdown",
   "metadata": {},
   "source": [
    "### 3. Creating the \"sample mean plus and minus about 2 times the standard error\" confidence interval addressed in the previous problem should indeed cover approximately 95% of the bootstrapped sample means. Alternatively, how do we create a 95% bootstrapped confidence interval using the bootstrapped means (without using their standard deviation to estimate the standard error of the mean)? Explain this concisely in your own words.<br>\n"
   ]
  },
  {
   "cell_type": "markdown",
   "metadata": {},
   "source": [
    "We can directly use the percentile to calculate the boundary of the confidence interval(CI)<br>\n",
    "We still need to do bootstrapping first<br>\n",
    "In order to involve 95% of the bootstrapped sample means, we can set the lower boundary at 2.5% percentile, and set the upper boundary at 97.5 percentile. This is related to the model of normal distribution."
   ]
  },
  {
   "cell_type": "markdown",
   "metadata": {},
   "source": [
    "### 4. The \"Pre-lecture\" video (above) mentioned that bootstrap confidence intervals could apply to other statistics of the sample, such as the \"median\". Work with a ChatBot to create code to produce a 95% bootstrap confidence interval for a population mean based on a sample that you have and comment the code to demonstrate how the code can be changed to produce a 95% bootstrap confidence interval for different population parameter (other than the population mean, such as the population median).<br>\n"
   ]
  },
  {
   "cell_type": "code",
   "execution_count": 3,
   "metadata": {},
   "outputs": [
    {
     "data": {
      "text/plain": [
       "(47.276635751407504, 50.62851486440195)"
      ]
     },
     "execution_count": 3,
     "metadata": {},
     "output_type": "execute_result"
    }
   ],
   "source": [
    "#Means\n",
    "import numpy as np #import a module\n",
    "\n",
    "np.random.seed(42) #The seed makes sure that the random arrays summoned in each running are the same\n",
    "sample_size = 100\n",
    "sample = np.random.normal(loc=50, scale=10, size=sample_size) #(mean, SD, sample size)\n",
    "\n",
    "bootstrap_means = []\n",
    "n_bootstraps = 1000  \n",
    "\n",
    "#bootstrap for 1000 times\n",
    "for _ in range(n_bootstraps):\n",
    "    #generate one bootstrap sanmple\n",
    "    bootstrap_sample = np.random.choice(sample, size=sample_size, replace=True)\n",
    "    #calculate the mean of the sample and append it to the list\n",
    "    bootstrap_means.append(np.mean(bootstrap_sample))\n",
    "\n",
    "ci_lower = np.percentile(bootstrap_means, 2.5)  #Use np.percentile() method to build the boundary of CI\n",
    "ci_upper = np.percentile(bootstrap_means, 97.5)\n",
    "\n",
    "(ci_lower, ci_upper)"
   ]
  },
  {
   "cell_type": "code",
   "execution_count": 5,
   "metadata": {},
   "outputs": [
    {
     "data": {
      "text/plain": [
       "(46.94841964279748, 51.34222915269005)"
      ]
     },
     "execution_count": 5,
     "metadata": {},
     "output_type": "execute_result"
    }
   ],
   "source": [
    "#Medians\n",
    "import numpy as np\n",
    "\n",
    "np.random.seed(42)\n",
    "sample_size = 100\n",
    "sample = np.random.normal(loc=50, scale=10, size=sample_size)\n",
    "\n",
    "bootstrap_medians = []  #Change of the name to show we want to calculate the median\n",
    "n_bootstraps = 1000\n",
    "\n",
    "for _ in range(n_bootstraps):\n",
    "    bootstrap_sample = np.random.choice(sample, size=sample_size, replace=True)\n",
    "    bootstrap_medians.append(np.median(bootstrap_sample))  #np.median() to calculate the median of the sample\n",
    "\n",
    "ci_lower = np.percentile(bootstrap_medians, 2.5)\n",
    "ci_upper = np.percentile(bootstrap_medians, 97.5)\n",
    "\n",
    "(ci_lower, ci_upper)"
   ]
  },
  {
   "cell_type": "markdown",
   "metadata": {},
   "source": [
    "### 5. The previous question addresses making a confidence interval for a population parameter based on a sample statistic. Why do we need to distinguish between the role of the popualation parameter and the sample sample statistic when it comes to confidence intervals? Explain this concisely in your own words.<br>\n"
   ]
  },
  {
   "cell_type": "markdown",
   "metadata": {},
   "source": [
    "What we need to clarify is that we can only process data based on the selected sample. We cannot know the parameters of the population. In the example above, we only estimate the population parameters by bootstrapping the sample. Sample statistics fluctuate with different samples, while population parameters are fixed.\n",
    "\n",
    "A confidence interval is a method we use to estimate the population parameters through sample statistics. The population parameter may fall within the confidence interval."
   ]
  },
  {
   "cell_type": "markdown",
   "metadata": {},
   "source": [
    "### 6. Provide written answers explaining the answers to the following questions in an informal manner of a conversation with a friend with little experience with statistics. <br>\n"
   ]
  },
  {
   "cell_type": "markdown",
   "metadata": {},
   "source": [
    "No chatbot used in the section"
   ]
  },
  {
   "cell_type": "markdown",
   "metadata": {},
   "source": [
    "_**6.1 The process of bootstrapping**_<br>\n",
    "Now, we want to estimate the average weight of all Canadians. The problem is, you can't know the weight of every Canadian (this is like trying to measure the entire population), so you randomly find some Canadians and obtain their weight data. Now, the process of bootstrapping is like repeatedly drawing multiple samples with replacement from the weights you already have, and then calculating the average weight for each sample.\n",
    "\n",
    "The specific steps of bootstrapping are as follows: you randomly draw from the original sample with replacement many times, each time drawing the same number of weight data as the original sample. Since sampling is done with replacement, the sampled data may repeat. Then, you calculate the average for each sample drawn, which gives you a set of different averages. Finally, you use these averages to estimate the average weight of all Canadians."
   ]
  },
  {
   "cell_type": "markdown",
   "metadata": {},
   "source": [
    "_**6.2 Main purpose of bootestrapping**_<br>\n",
    "The main purpose of the bootstrap method is to help us estimate population parameters, such as the mean in the case, especially when we cannot directly measure the population (usually we cannot) . It **simulates** the process of repeatedly sampling from the population by repeatedly sampling from the sample. In this way, even if we only have one sample, we can still make estimates about the characteristics of the population and have a rough understanding of the reliability of this estimate."
   ]
  },
  {
   "cell_type": "markdown",
   "metadata": {},
   "source": [
    "_**6.3**_<br>\n",
    "Then we measure the weight of n people in the street<br>\n",
    "**1.** Calculate the avergae weight of the n(e.g. 100) people, this will be our initial guess. e.g.80kg<br>\n",
    "**2.** Resample with bootstrapping. As we mentioned in 6.1, we can use computer to help us randomly select 100 people's weight with replacement from the sample we have. This process can be repeated for many times, for example 10000 times<br>\n",
    "**3.** Calculate the mean weight(bootstrapped mean) for the sample we randomly picked and put them into a histogram (or bar plot)<br>\n",
    "**4.** Check if our initial guess is close to the bootstrapped mean in a high frequency. If so, the guess could be plausible"
   ]
  },
  {
   "cell_type": "markdown",
   "metadata": {},
   "source": [
    "\n",
    "### 7. The \"Pre-lecture\" video (above) introduced hypothesis testing by saying that \"the confidence interval covers zero, so we cannot reject the hypothesis that the drug is **[on average]** not doing anything\".  This conclusion could be referred to as \"failing to reject the null hypothesis\", where the term \"null\" refers to the concept of \"no effect **[on average]**\".  Why does a confidence interval overlapping zero \"fail to reject the null hypothesis\" when the observed sample mean statistic itself is not zero? Alternatively, what would lead to the opposite conclusion in this context; namely, instead choosing \"to reject the null hypothesis\"? Explain the answers to these questions concisely in your own words.<br>\n"
   ]
  },
  {
   "cell_type": "markdown",
   "metadata": {},
   "source": [
    "**1.** The CI includes a large range of values which is plausible, all of those values can be the real population mean. Since 0 falls in the CI, 0 is plausible. We do not have enough evidence to oppose the null hypothesis.<br>\n",
    "**2.** Thus, if 0 is not in the CI, the null hypothesis can be opposed, because that means the bootstrapped mean is unlikely to be 0."
   ]
  },
  {
   "cell_type": "markdown",
   "metadata": {},
   "source": [
    "### 8. Complete the following assignment. \n"
   ]
  },
  {
   "cell_type": "markdown",
   "metadata": {},
   "source": [
    "### Vaccine Data Analysis Assignment\n",
    "\n",
    "**Overview**\n",
    "\n",
    "The company AliTech has created a new vaccine that aims to improve the health of the people who take it. Your job is to use what you have learned in the course to give evidence for whether or not the vaccine is effective. \n",
    "\n",
    "**Data**\n",
    "AliTech has released the following data.\n",
    "\n",
    "```csv\n",
    "PatientID,Age,Gender,InitialHealthScore,FinalHealthScore\n",
    "1,45,M,84,86\n",
    "2,34,F,78,86\n",
    "3,29,M,83,80\n",
    "4,52,F,81,86\n",
    "5,37,M,81,84\n",
    "6,41,F,80,86\n",
    "7,33,M,79,86\n",
    "8,48,F,85,82\n",
    "9,26,M,76,83\n",
    "10,39,F,83,84\n",
    "```\n",
    "\n",
    "**Deliverables**\n",
    "While you can choose how to approach this project, the most obvious path would be to use bootstrapping, follow the analysis presented in the \"Pre-lecture\" HW video (above). Nonetheless, we are  primarily interested in evaluating your report relative to the following deliverables.\n",
    "\n",
    "- A visual presentation giving some initial insight into the comparison of interest.\n",
    "- A quantitative analysis of the data and an explanation of the method and purpose of this method.\n",
    "- A conclusion regarding a null hypothesis of \"no effect\" after analyzing the data with your methodology.\n",
    "- The clarity of your documentation, code, and written report. \n",
    "\n",
    "> Consider organizing your report within the following outline template.\n",
    "> - Problem Introduction \n",
    ">     - An explaination of the meaning of a Null Hypothesis of \"no effect\" in this context\n",
    ">     - Data Visualization (motivating and illustrating the comparison of interest)\n",
    "> - Quantitative Analysis\n",
    ">     - Methodology Code and Explanations\n",
    ">     - Supporting Visualizations\n",
    "> - Findings and Discussion\n",
    ">     - Conclusion regarding a Null Hypothesis of \"no effect\"\n",
    ">     - Further Considerations\n",
    "\n",
    "**Further Instructions**\n",
    "- When using random functions, you should make your analysis reproducible by using the `np.random.seed()` function\n",
    "- Create a CSV file and read that file in with your code, but **do not** include the CSV file along with your submission\n"
   ]
  },
  {
   "cell_type": "markdown",
   "metadata": {},
   "source": [
    "_**Problem Introduction**_"
   ]
  },
  {
   "cell_type": "markdown",
   "metadata": {},
   "source": [
    "The meaning of a \"Null Hypothesis of 'no effect'\" means that the distribution of (change in health score after taking the vaccine) should be centred near zero. To check if the null hypothesis is correct, I'll try to use a bar plot and box plot to visuallize if there is a positive trend of healthscore."
   ]
  },
  {
   "cell_type": "code",
   "execution_count": 2,
   "metadata": {},
   "outputs": [],
   "source": [
    "import pandas as pd\n",
    "datas = {\n",
    "    'PatientID' :[1, 2, 3, 4, 5, 6, 7, 8, 9, 10],\n",
    "    'Age' : [45, 34, 29, 52, 37, 41, 33, 48, 26, 39],\n",
    "    'Gender' : ['M', 'F', 'M', 'F', 'M', 'F', 'M', 'F', 'M','F'],\n",
    "    'InitialHealthScore' : [84, 78, 83, 81, 81, 80, 79, 85, 76, 83],\n",
    "    'FinalHealthScore' :[86, 86, 80, 86, 84, 86, 86, 82, 83, 84],\n",
    "    \n",
    "}\n",
    "\n",
    "df = pd.DataFrame(datas)\n",
    "\n",
    "df.to_csv('vaccine_data.csv')"
   ]
  },
  {
   "cell_type": "code",
   "execution_count": 3,
   "metadata": {},
   "outputs": [
    {
     "data": {
      "text/html": [
       "<div>\n",
       "<style scoped>\n",
       "    .dataframe tbody tr th:only-of-type {\n",
       "        vertical-align: middle;\n",
       "    }\n",
       "\n",
       "    .dataframe tbody tr th {\n",
       "        vertical-align: top;\n",
       "    }\n",
       "\n",
       "    .dataframe thead th {\n",
       "        text-align: right;\n",
       "    }\n",
       "</style>\n",
       "<table border=\"1\" class=\"dataframe\">\n",
       "  <thead>\n",
       "    <tr style=\"text-align: right;\">\n",
       "      <th></th>\n",
       "      <th>Unnamed: 0</th>\n",
       "      <th>PatientID</th>\n",
       "      <th>Age</th>\n",
       "      <th>Gender</th>\n",
       "      <th>InitialHealthScore</th>\n",
       "      <th>FinalHealthScore</th>\n",
       "    </tr>\n",
       "  </thead>\n",
       "  <tbody>\n",
       "    <tr>\n",
       "      <th>0</th>\n",
       "      <td>0</td>\n",
       "      <td>1</td>\n",
       "      <td>45</td>\n",
       "      <td>M</td>\n",
       "      <td>84</td>\n",
       "      <td>86</td>\n",
       "    </tr>\n",
       "    <tr>\n",
       "      <th>1</th>\n",
       "      <td>1</td>\n",
       "      <td>2</td>\n",
       "      <td>34</td>\n",
       "      <td>F</td>\n",
       "      <td>78</td>\n",
       "      <td>86</td>\n",
       "    </tr>\n",
       "    <tr>\n",
       "      <th>2</th>\n",
       "      <td>2</td>\n",
       "      <td>3</td>\n",
       "      <td>29</td>\n",
       "      <td>M</td>\n",
       "      <td>83</td>\n",
       "      <td>80</td>\n",
       "    </tr>\n",
       "    <tr>\n",
       "      <th>3</th>\n",
       "      <td>3</td>\n",
       "      <td>4</td>\n",
       "      <td>52</td>\n",
       "      <td>F</td>\n",
       "      <td>81</td>\n",
       "      <td>86</td>\n",
       "    </tr>\n",
       "    <tr>\n",
       "      <th>4</th>\n",
       "      <td>4</td>\n",
       "      <td>5</td>\n",
       "      <td>37</td>\n",
       "      <td>M</td>\n",
       "      <td>81</td>\n",
       "      <td>84</td>\n",
       "    </tr>\n",
       "    <tr>\n",
       "      <th>5</th>\n",
       "      <td>5</td>\n",
       "      <td>6</td>\n",
       "      <td>41</td>\n",
       "      <td>F</td>\n",
       "      <td>80</td>\n",
       "      <td>86</td>\n",
       "    </tr>\n",
       "    <tr>\n",
       "      <th>6</th>\n",
       "      <td>6</td>\n",
       "      <td>7</td>\n",
       "      <td>33</td>\n",
       "      <td>M</td>\n",
       "      <td>79</td>\n",
       "      <td>86</td>\n",
       "    </tr>\n",
       "    <tr>\n",
       "      <th>7</th>\n",
       "      <td>7</td>\n",
       "      <td>8</td>\n",
       "      <td>48</td>\n",
       "      <td>F</td>\n",
       "      <td>85</td>\n",
       "      <td>82</td>\n",
       "    </tr>\n",
       "    <tr>\n",
       "      <th>8</th>\n",
       "      <td>8</td>\n",
       "      <td>9</td>\n",
       "      <td>26</td>\n",
       "      <td>M</td>\n",
       "      <td>76</td>\n",
       "      <td>83</td>\n",
       "    </tr>\n",
       "    <tr>\n",
       "      <th>9</th>\n",
       "      <td>9</td>\n",
       "      <td>10</td>\n",
       "      <td>39</td>\n",
       "      <td>F</td>\n",
       "      <td>83</td>\n",
       "      <td>84</td>\n",
       "    </tr>\n",
       "  </tbody>\n",
       "</table>\n",
       "</div>"
      ],
      "text/plain": [
       "   Unnamed: 0  PatientID  Age Gender  InitialHealthScore  FinalHealthScore\n",
       "0           0          1   45      M                  84                86\n",
       "1           1          2   34      F                  78                86\n",
       "2           2          3   29      M                  83                80\n",
       "3           3          4   52      F                  81                86\n",
       "4           4          5   37      M                  81                84\n",
       "5           5          6   41      F                  80                86\n",
       "6           6          7   33      M                  79                86\n",
       "7           7          8   48      F                  85                82\n",
       "8           8          9   26      M                  76                83\n",
       "9           9         10   39      F                  83                84"
      ]
     },
     "execution_count": 3,
     "metadata": {},
     "output_type": "execute_result"
    }
   ],
   "source": [
    "data = pd.read_csv('vaccine_data.csv')\n",
    "data"
   ]
  },
  {
   "cell_type": "code",
   "execution_count": 4,
   "metadata": {},
   "outputs": [
    {
     "data": {
      "image/png": "[encoded data removed]",
      "text/plain": [
       "<Figure size 1000x600 with 1 Axes>"
      ]
     },
     "metadata": {},
     "output_type": "display_data"
    }
   ],
   "source": [
    "import pandas as pd\n",
    "import matplotlib.pyplot as plt\n",
    "\n",
    "# Create a DataFrame\n",
    "df = pd.DataFrame(data)\n",
    "\n",
    "# Calculate the change in health score\n",
    "df['HealthScoreChange'] = df['FinalHealthScore'] - df['InitialHealthScore']\n",
    "\n",
    "# Plotting the bar plot\n",
    "plt.figure(figsize=(10, 6))\n",
    "plt.bar(df['PatientID'], df['HealthScoreChange'], color='blue', alpha=0.7)\n",
    "plt.xlabel('Patient ID')\n",
    "plt.ylabel('Change in Health Score')\n",
    "plt.title('Change in Health Score by Patient ID')\n",
    "plt.xticks(df['PatientID'])\n",
    "plt.grid(axis='y')\n",
    "\n",
    "# Display the plot\n",
    "plt.show()"
   ]
  },
  {
   "cell_type": "code",
   "execution_count": 5,
   "metadata": {},
   "outputs": [
    {
     "data": {
      "image/png": "[encoded data removed]",
      "text/plain": [
       "<Figure size 800x600 with 1 Axes>"
      ]
     },
     "metadata": {},
     "output_type": "display_data"
    }
   ],
   "source": [
    "import pandas as pd\n",
    "import matplotlib.pyplot as plt\n",
    "\n",
    "# Create a DataFrame\n",
    "df = pd.DataFrame(data)\n",
    "\n",
    "# Prepare data for box plots\n",
    "data_to_plot = [df['InitialHealthScore'], df['FinalHealthScore']]\n",
    "\n",
    "# Plotting the box plots\n",
    "plt.figure(figsize=(8, 6))\n",
    "plt.boxplot(data_to_plot, labels=['Before Vaccination', 'After Vaccination'])\n",
    "plt.ylabel('Health Score')\n",
    "plt.title('Health Scores Before and After Vaccination')\n",
    "plt.grid(axis='y')\n",
    "\n",
    "# Display the plot\n",
    "plt.show()"
   ]
  },
  {
   "cell_type": "markdown",
   "metadata": {},
   "source": [
    "_**Quantitative Analysis**_<br>\n",
    "In this section, I will try to bootstrap the sample, then we can get an estimation of population mean of change of HealthScore. This may provide evidence related to our null hypothesis."
   ]
  },
  {
   "cell_type": "code",
   "execution_count": 10,
   "metadata": {},
   "outputs": [
    {
     "data": {
      "image/png": "[encoded data removed]",
      "text/plain": [
       "<Figure size 1000x600 with 1 Axes>"
      ]
     },
     "metadata": {},
     "output_type": "display_data"
    },
    {
     "name": "stdout",
     "output_type": "stream",
     "text": [
      "0.005\n"
     ]
    }
   ],
   "source": [
    "import pandas as pd\n",
    "import numpy as np\n",
    "import matplotlib.pyplot as plt\n",
    "\n",
    "# Create a DataFrame\n",
    "df = pd.DataFrame(data)\n",
    "\n",
    "# Calculate the change in health score\n",
    "df['HealthScoreChange'] = df['FinalHealthScore'] - df['InitialHealthScore']\n",
    "\n",
    "np.random.seed(42)\n",
    "\n",
    "# Bootstrapping\n",
    "n_iterations = 10000  # Number of bootstrap samples\n",
    "bootstrap_means = []\n",
    "\n",
    "for _ in range(n_iterations):\n",
    "    # Resample with replacement\n",
    "    sample = np.random.choice(df['HealthScoreChange'], size=len(df['HealthScoreChange']), replace=True)\n",
    "    # Calculate the mean of the sample\n",
    "    bootstrap_means.append(np.mean(sample))\n",
    "\n",
    "# Calculate the mean of the bootstrapped samples\n",
    "mean_bootstrap = np.mean(bootstrap_means)\n",
    "\n",
    "# Calculate the 95% confidence interval (2.5th and 97.5th percentiles)\n",
    "lower_bound = np.percentile(bootstrap_means, 2.5)\n",
    "upper_bound = np.percentile(bootstrap_means, 97.5)\n",
    "\n",
    "# Calculate the p-value: proportion of bootstrap samples where the mean is less than or equal to zero\n",
    "p_value = np.sum(np.array(bootstrap_means) <= 0) / n_iterations\n",
    "\n",
    "# Plot the bootstrap means\n",
    "plt.figure(figsize=(10, 6))\n",
    "plt.hist(bootstrap_means, bins=30, color='blue', alpha=0.7, edgecolor='black')\n",
    "plt.xlabel('Mean Change in Health Score')\n",
    "plt.ylabel('Frequency')\n",
    "plt.title('Bootstrap Distribution of the Mean Change in Health Score')\n",
    "plt.grid(axis='y')\n",
    "\n",
    "# Add vertical lines for the mean and confidence interval\n",
    "plt.axvline(mean_bootstrap, color='red', linestyle='--', linewidth=2, label=f'Mean: {mean_bootstrap:.2f}')\n",
    "plt.axvline(lower_bound, color='green', linestyle='--', linewidth=2, label=f'95% CI Lower: {lower_bound:.2f}')\n",
    "plt.axvline(upper_bound, color='green', linestyle='--', linewidth=2, label=f'95% CI Upper: {upper_bound:.2f}')\n",
    "\n",
    "# Add legend\n",
    "plt.legend()\n",
    "\n",
    "# Display the plot\n",
    "plt.show()\n",
    "\n",
    "print(p_value)"
   ]
  },
  {
   "cell_type": "markdown",
   "metadata": {},
   "source": [
    "Bootstrapped mean: 3.29<br>"
   ]
  },
  {
   "cell_type": "markdown",
   "metadata": {},
   "source": [
    "_**Findings and Discussion**_"
   ]
  },
  {
   "cell_type": "markdown",
   "metadata": {},
   "source": [
    "Since 0 is not within the CI, the null hypothesis can be opposed. The vaccine takes positive effect on human."
   ]
  },
  {
   "cell_type": "markdown",
   "metadata": {},
   "source": [
    "### 9. Have you reviewed the course wiki-textbook and interacted with a ChatBot (or, if that wasn't sufficient, real people in the course piazza discussion board or TA office hours) to help you understand all the material in the tutorial and lecture that you didn't quite follow when you first saw it?<br>\n",
    "    \n",
    "<details class=\"details-example\"><summary style=\"color:blue\"><u>Further Guidance</u></summary>\n",
    "    \n",
    ">  Here is the link of [wiki-textbook](https://github.com/pointOfive/stat130chat130/wiki) in case it gets lost among all the information you need to keep track of  : )\n",
    "> \n",
    "> Just answering \"Yes\" or \"No\" or \"Somewhat\" or \"Mostly\" or whatever here is fine as this question isn't a part of the rubric; but, the midterm and final exams may ask questions that are based on the tutorial and lecture materials; and, your own skills will be limited by your familiarity with these materials (which will determine your ability to actually do actual things effectively with these skills... like the course project...)\n",
    "\n",
    "</details>\n",
    "\n",
    "_**Don't forget to ask for summaries of your ChatBot session(s) and paste these into your homework notebook (including link(s) to chat log histories if you're using ChatGPT)!**_"
   ]
  },
  {
   "cell_type": "markdown",
   "metadata": {},
   "source": [
    "No, I am still working on it"
   ]
  }
 ],
 "metadata": {
  "celltoolbar": "Slideshow",
  "colab": {
   "provenance": []
  },
  "kernelspec": {
   "display_name": "Python 3 (ipykernel)",
   "language": "python",
   "name": "python3"
  },
  "language_info": {
   "codemirror_mode": {
    "name": "ipython",
    "version": 3
   },
   "file_extension": ".py",
   "mimetype": "text/x-python",
   "name": "python",
   "nbconvert_exporter": "python",
   "pygments_lexer": "ipython3",
   "version": "3.11.6"
  }
 },
 "nbformat": 4,
 "nbformat_minor": 1
}
