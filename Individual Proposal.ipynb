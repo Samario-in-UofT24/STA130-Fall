{
 "cells": [
  {
   "cell_type": "markdown",
   "id": "ea9afd12",
   "metadata": {},
   "source": [
    "# Project Purpose:   the importance of social connection and community engagement for personal health and well-being"
   ]
  },
  {
   "cell_type": "markdown",
   "id": "7080baa1",
   "metadata": {},
   "source": [
    "## Analysis 1"
   ]
  },
  {
   "cell_type": "markdown",
   "id": "bae2bb91",
   "metadata": {},
   "source": [
    "### Research question"
   ]
  },
  {
   "cell_type": "markdown",
   "id": "282b73dc",
   "metadata": {},
   "source": [
    "Does taking part in community involvement activities have a significant relationship with people well-being?"
   ]
  },
  {
   "cell_type": "markdown",
   "id": "cae55d63",
   "metadata": {},
   "source": [
    "### Variables"
   ]
  },
  {
   "cell_type": "markdown",
   "id": "e1bf2099",
   "metadata": {},
   "source": [
    "1. Independent variable: Participation Index<br>\n",
    "This is an index created by measuring from mainly the data series CONNECTION_community_involvement_xxx like: <br>\n",
    "- CONNECTION_community_involvement_sports_p3m\n",
    "- CONNECTION_community_involvement_civic_p3m\n",
    "- CONNECTION_community_involvement_service_p3m<br>\n",
    "\n",
    "These datas are **binary catagorical**, only contain Yes/No as useful information.<br>\n",
    "In order to create the index, \"yes\" is assigned a value of 1, and \"no\" is assigned a value of 0. Then add the total for the three terms above. Hence the index is **discrete**\n",
    "- Visualisation: Bar plot. Can clearly show the proportion or the number of people have a participation index of 0,1,2,3...\n"
   ]
  },
  {
   "cell_type": "markdown",
   "id": "a124b499",
   "metadata": {},
   "source": [
    "2. Dependent variable: People happiness index<br>\n",
    "The dependent variable is obtained by applying weighting to the original data in categories below. Equal weight is okay here.\n",
    "This can be measured by the data series WELLNESS_subjective_happiness_scale_xxx like:\n",
    "- WELLNESS_subjective_happiness_scale_happy\n",
    "- WELLNESS_subjective_happiness_scale_peers\n",
    "- WELLNESS_subjective_happiness_scale_always_happy<br>\n",
    "<br>\n",
    "These datas are in **ordinal** scale, they contain the integer 1-7 to measure the extent of happiness<br>\n",
    "The index created as dependent variable is a **continuous** data\n",
    "\n",
    "- Visualisation: Box plot. Can observe the distribution of people happiness, including the quartiles and outliers. We can also do the comparison of distribution between different participation index.\n"
   ]
  },
  {
   "cell_type": "markdown",
   "id": "bca4b267",
   "metadata": {},
   "source": [
    "### Analysis method"
   ]
  },
  {
   "cell_type": "markdown",
   "id": "23631767",
   "metadata": {},
   "source": [
    "0. Initialization of data: filter for cases where REMOVE_case is \"No,\" and exclude rows with missing values in these specific columns."
   ]
  },
  {
   "cell_type": "markdown",
   "id": "64c5b7ab",
   "metadata": {},
   "source": [
    "1. Visualisation\n",
    "- Use box plot to show the different quartiles of well-being under different participation index.\n",
    "\n",
    "- Histogram. We can get the mean under different participation index to do the comparision.\n",
    "\n",
    "- Scatter point plot with a regression line is okay, x-axis is participation index and y-axis is happiness index.\n",
    "\n",
    "2. Simple linear regression model. \n",
    "- Some assumptions when using this method: <br>\n",
    "Assume there is a linear relationship between the independent and dependent variable.<br>\n",
    "The datas in the dataset are independent<br>\n",
    "Assume the distribution of residual/error terms follows normalc distribution<br>\n",
    "- The model will be：<br>\n",
    "$\\text{People happiness index} = \\beta_0 + \\beta_1 * \\text{Participation index} + \\epsilon$<br>\n",
    "We can use the coefficient of determination to evaluate our model.\n",
    "\n",
    "3. Bootstrapping for confidence intervals of regression parameters, together with visualisation of the value under null hypothesis."
   ]
  },
  {
   "cell_type": "markdown",
   "id": "2a7b389a",
   "metadata": {},
   "source": [
    "### Hypothesis test and possible results"
   ]
  },
  {
   "cell_type": "markdown",
   "id": "896a235a",
   "metadata": {},
   "source": [
    "If the fitted $\\beta_1$ is smaller than 0, then there is a positive correlation between the independent and independent variables, i.e. the higher participation index, the lower people happiness index. If $\\beta_1$ is positive, there will be a positive correlation between the two varibles."
   ]
  },
  {
   "cell_type": "markdown",
   "id": "b4bcdce2",
   "metadata": {},
   "source": [
    "- $H_0$: Participation index does not have a linear association with People happiness index \"on average\". $\\beta_1 = 0$ <br>\n",
    "- $H_A$: Participation index does have a linear association with People happiness index \"on average\". $\\beta_1 \\neq 0$"
   ]
  },
  {
   "cell_type": "markdown",
   "id": "a181fd4d",
   "metadata": {},
   "source": [
    "**Relevance**: Results will quantify how community involvement contributes to happiness (measured by the happiness_scale series data), providing evidence for community program development. Related to the key word \"community engagement\", \"health and well-being\""
   ]
  },
  {
   "cell_type": "markdown",
   "id": "ba0c51e1",
   "metadata": {},
   "source": [
    "If the p-value is higher than the significance level (0.05 for example), indicating we do not have enough evidence to reject the null hypothesis. Which means we cannot reject \"Community involvement does not have a significant impact on well-being.\"<br>\n",
    "Also we can check if the assumed value of parameter inside the CI of bootstrapping. (95% confidence level for example). If the value is not within the CI, we have enough evidence to reject the null hypothesis.\n"
   ]
  },
  {
   "cell_type": "code",
   "execution_count": null,
   "id": "86e4c250",
   "metadata": {},
   "outputs": [],
   "source": []
  },
  {
   "cell_type": "markdown",
   "id": "25bfc1c5",
   "metadata": {},
   "source": [
    "## Analysis 2"
   ]
  },
  {
   "cell_type": "markdown",
   "id": "911ec18d",
   "metadata": {},
   "source": [
    "### Research question"
   ]
  },
  {
   "cell_type": "markdown",
   "id": "47298dcc",
   "metadata": {},
   "source": [
    "Does people's anxiety have a realtion with community/neighborhood relationships?"
   ]
  },
  {
   "cell_type": "markdown",
   "id": "a48cdd0a",
   "metadata": {},
   "source": [
    "### Variables"
   ]
  },
  {
   "cell_type": "markdown",
   "id": "3829d10f",
   "metadata": {},
   "source": [
    "1. Independent variable: Community/neighborhood relationships<br>\n",
    "This can be represented by the data series GEO_robinson_neighbourhood_cohesion_scale_*, which means they are the independent variables:\n",
    "- GEO_robinson_neighbourhood_cohesion_scale_belong\n",
    "- GEO_robinson_neighbourhood_cohesion_scale_emergency\n",
    "- GEO_robinson_neighbourhood_cohesion_scale_willing<br>\n",
    "<br>\n",
    "These datas are in **ordinal** scale, they all contain 'strongly disagree'，'disagree'，'agree', 'strongly agree'<br>\n",
    "Coded to 1,2,3,4<br>\n",
    "We do this in order to fit the requirement for this regression model.<br>\n",
    "- Visualisation: Bar plot. Can show the number for each category, i.e. belong, emergency, willing and so on."
   ]
  },
  {
   "cell_type": "markdown",
   "id": "7cee6fbe",
   "metadata": {},
   "source": [
    "2. Dependent variable:  People's anxiety<br>\n",
    "This can be measured by the data below:\n",
    "- WELLNESS_gad_anxious<br>\n",
    "<br>\n",
    "It is in **ordinal* scale, contain 'not at all', 'several days', 'More than half the days', 'Nearly every day'<br>\n",
    "Coded to 1,2,3,4<br>\n",
    "We do this in order to fit the requirement for this regression model.<br>\n",
    "- Visualisation: Box plot. Can show the distribution of anxiety under different neighbourhood relationships."
   ]
  },
  {
   "cell_type": "markdown",
   "id": "04c8bb1d",
   "metadata": {},
   "source": [
    "### Analysis method"
   ]
  },
  {
   "cell_type": "markdown",
   "id": "e76b3eb9",
   "metadata": {},
   "source": [
    "0. Initialization of data: filter for cases where REMOVE_case is \"No,\" and exclude rows with missing values in these specific columns."
   ]
  },
  {
   "cell_type": "markdown",
   "id": "52a6de7f",
   "metadata": {},
   "source": [
    "1. Multiple Linear Regression<br>\n",
    "- Some assumptions when using this method: <br>\n",
    "Assume there is a linear relationship between the independent and dependent variable.<br>\n",
    "The datas in the dataset are independent<br>\n",
    "The distribution of residual/error terms follows normalc distribution<br>\n",
    "There is no obvious linear relationship between independent variables\n",
    "- The model is:<br>$\n",
    "\\text{WELLNESS_gad_anxious} = \\beta_0 + \\beta_1 \\cdot \\text{GEO_robinson_neighbourhood_cohesion_scale_belong} + \\beta_2 \\cdot \\text{GEO_robinson_neighbourhood_cohesion_scale_emergency} + \\beta_3 \\cdot \\text{GEO_robinson_neighbourhood_cohesion_scale_willing} + \\epsilon$<br>\n",
    "We can use the coefficient of determination to evaluate our model.\n",
    "<br>\n",
    "- In multiple regression, we need more than one p-value since there are many $\\beta$s\n",
    "\n",
    "\n"
   ]
  },
  {
   "cell_type": "markdown",
   "id": "ace1d15a",
   "metadata": {},
   "source": [
    "2. Bootstrapping for confidence intervals of regression parameters, together with visualisation of the value under null hypothesis."
   ]
  },
  {
   "cell_type": "markdown",
   "id": "66684687",
   "metadata": {},
   "source": [
    "### Hypothesis test and possible results"
   ]
  },
  {
   "cell_type": "markdown",
   "id": "5bceaeaf",
   "metadata": {
    "slideshow": {
     "slide_type": "slide"
    }
   },
   "source": [
    "If the fitted $\\beta_i$ is greater than zero, it means the increase of specific neighbourhood relation will increase the level of anxiety.(positive correlation) If it is smaller zero, it means the increase of realtion will decrease the people's level of anxiety(negative correlation).<br>\n",
    "Also, we can compare the value of $\\beta_i$s(if they have the same sign). if, for example, $\\beta_1$ is larger than $\\beta_2$ and they are both positive, this means the increase of \"belong\" contributes more than that of \"emergency\"."
   ]
  },
  {
   "cell_type": "markdown",
   "id": "d4011d45",
   "metadata": {},
   "source": [
    "- $H_0$:Neighborhood relationship does not have a linear association with anxiety levels \"on average\". ($\\beta_1 = 0$, $\\beta_2 = 0$, $\\beta_3 = 0$)<br>\n",
    "- $H_A$:Neighborhood relationship does have a linear association with anxiety levels \"on average\". (at least one ,$\\beta_i \\neq 0$),  $i \\in [1,3]$"
   ]
  },
  {
   "cell_type": "markdown",
   "id": "6499a697",
   "metadata": {},
   "source": [
    "**Relevance**: Exploring the role of interactions with people within the community can help us understand the critical role social relationships play in the development of anxiety. This is related to what we refer to as \"social connection\" and \"personal health and well-being.\" Anxiety imposes mental and physical stress on individuals, which, over time, may lead to illness. If we can clarify the relationship between community connections and levels of anxiety discussed here, it could help in reducing the occurrence of these negative effects."
   ]
  },
  {
   "cell_type": "markdown",
   "id": "e977a0d9",
   "metadata": {},
   "source": [
    "If the p-value is higher than the significance level (0.05 for example), indicating we do not have enough evidence to reject the null hypothesis. Which means we cannot reject \"Neighborhood relationship does not have a significant impact on anxiety levels.\"<br>\n",
    "Also we can check if the assumed value of parameter inside the CI of bootstrapping (95% confidence level for example). If the value is not within the CI, we have enough evidence to reject the null hypothesis."
   ]
  },
  {
   "cell_type": "code",
   "execution_count": null,
   "id": "28cdd9e1",
   "metadata": {},
   "outputs": [],
   "source": []
  },
  {
   "cell_type": "markdown",
   "id": "beff33a5",
   "metadata": {},
   "source": [
    "## Analysis 3"
   ]
  },
  {
   "cell_type": "markdown",
   "id": "377d1f0e",
   "metadata": {},
   "source": [
    "### Research question"
   ]
  },
  {
   "cell_type": "markdown",
   "id": "d617fcfa",
   "metadata": {},
   "source": [
    "Does the time of interactions with friends and family over the past 7 days have a relartion with people life satisfaction?"
   ]
  },
  {
   "cell_type": "markdown",
   "id": "a7ed8844",
   "metadata": {},
   "source": [
    "### Variables"
   ]
  },
  {
   "cell_type": "markdown",
   "id": "c5422458",
   "metadata": {},
   "source": [
    "1. Independent variables: time of interactions with friends, time of interactions family （two independent variables)<br>\n",
    "This can be measured by the data below:<br>\n",
    "- CONNECTION_social_time_family_p7d_grouped\n",
    "- CONNECTION_social_time_friends_p7d_grouped<br>\n",
    "<br>\n",
    "The data are in **ordinal** scale, containing \"no time\", \"less than 1 hour\", \"1 to 4 hours\", \"5 or more hours\"<br>\n",
    "Coded to: 0 = \"no time\", 1 = \"less than 1 hour\", 2 = \"1 to 4 hours\", 3 = \"5 or more hours\". <br>\n",
    "We do this in order to fit the requirement for this regression model.<br>\n",
    "- Visualisation: Bar plot. Show number of people in different time of interaction"
   ]
  },
  {
   "cell_type": "markdown",
   "id": "f11e067d",
   "metadata": {},
   "source": [
    "2. Dependent variable:  life satisfaction<br>\n",
    "This can be measured by:<br>\n",
    "- WELLNESS_life_satisfaction<br>\n",
    "<br>\n",
    "The data are continuous, containing 1.0-10.0<br>\n",
    "- Visualisation: Box plot. show different distribution of life satisfaction under different frequency of interactions with friends and family. Can show the quartiles and outliers"
   ]
  },
  {
   "cell_type": "markdown",
   "id": "e41b0a20",
   "metadata": {},
   "source": [
    "### Analysis method"
   ]
  },
  {
   "cell_type": "markdown",
   "id": "338aea1b",
   "metadata": {},
   "source": [
    "0. Initialization of data: filter for cases where REMOVE_case is \"No,\" and exclude rows with missing values in these specific columns."
   ]
  },
  {
   "cell_type": "markdown",
   "id": "336b525d",
   "metadata": {},
   "source": [
    "1. Multiple Linear Regression<br>\n",
    "- Some assumptions when using this method: <br>\n",
    "Assume there is a linear relationship between the independent and dependent variable.<br>\n",
    "The datas in the dataset are independent<br>\n",
    "The distribution of residual/error terms follows normalc distribution<br>\n",
    "There is no obvious linear relationship between independent variables\n",
    "- The model will be：<br>\n",
    "$\\text{life satisfaction} = \\beta_0 + \\beta_1 \\times \\text{frequency of interactions with family} + \\beta_2 \\times \\text{frequency of interactions with friends} + \\epsilon$\n",
    "- There are still two p-values\n",
    "- We can use the coefficient of determination to evaluate our model.\n",
    "\n",
    "2. Bootstrapping for confidence intervals of regression parameters, together with visualisation of the value under null hypothesis.<br>"
   ]
  },
  {
   "cell_type": "markdown",
   "id": "ab75bb24",
   "metadata": {},
   "source": [
    "### Hypothesis test and possible results"
   ]
  },
  {
   "cell_type": "markdown",
   "id": "d3eb97bc",
   "metadata": {},
   "source": [
    "Similar to analysis 2, if the fitted $\\beta_i$ is gretaer than zero, there is a positive correlation between the independent variables and dependent variables. If it is smaller than zero, there will be a negative correlation between the independent and dependent variables.<br>\n",
    "Also, we can compare the $\\beta_i$s, hence we can compare the effect of intereaction with family and interaction time with human to the life satisfaction.<br>"
   ]
  },
  {
   "cell_type": "markdown",
   "id": "408ee1b9",
   "metadata": {},
   "source": [
    "- $H_0$: The frequency of interaction with family and friends has no linear association with people's life satisfaction \"on average\". ($\\beta_1 \\text{and} \\beta_2 = 0$)\n",
    "- $H_A$:  The frequency of interaction with family and friends has linearassociation with people's life satisfaction \"on average\". (at least one of $\\beta_1 \\beta_2 \\neq 0$)"
   ]
  },
  {
   "cell_type": "markdown",
   "id": "002bba66",
   "metadata": {},
   "source": [
    "**Relevance**: This study helps quantify the impact of social interactions on life satisfaction, revealing the different roles that family and friends play in well-being and life satisfaction. These analyses can assist mental health professionals and educational institutions in providing effective social support recommendations for peolple, such as encouraging more frequent interactions with family or friends to enhance life satisfaction."
   ]
  },
  {
   "cell_type": "markdown",
   "id": "9455f880",
   "metadata": {},
   "source": [
    "If the p-value is higher than the significance level (0.05 for example),indicating we do not have enough evidence to reject the null hypothesis. Which means we cannot reject \"The frequency of interaction with family and friends has no significant effect on students' life satisfaction\"<br>\n",
    "Also we can check if the assumed value of parameter inside the CI of bootstrapping (95% confidence level for example). If the value is not within the CI, we have enough evidence to reject the null hypothesis."
   ]
  },
  {
   "cell_type": "code",
   "execution_count": null,
   "id": "967758ea",
   "metadata": {},
   "outputs": [],
   "source": []
  },
  {
   "cell_type": "markdown",
   "id": "b2a8418f",
   "metadata": {},
   "source": [
    "**Preferred group member**:I hope I would be in a group with Luca Piccone. If that is True, I will be very happy XD"
   ]
  },
  {
   "cell_type": "code",
   "execution_count": null,
   "id": "ccd3a886",
   "metadata": {},
   "outputs": [],
   "source": []
  }
 ],
 "metadata": {
  "kernelspec": {
   "display_name": "Python 3 (ipykernel)",
   "language": "python",
   "name": "python3"
  },
  "language_info": {
   "codemirror_mode": {
    "name": "ipython",
    "version": 3
   },
   "file_extension": ".py",
   "mimetype": "text/x-python",
   "name": "python",
   "nbconvert_exporter": "python",
   "pygments_lexer": "ipython3",
   "version": "3.11.6"
  }
 },
 "nbformat": 4,
 "nbformat_minor": 5
}
