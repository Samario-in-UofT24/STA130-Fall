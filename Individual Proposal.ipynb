{
 "cells": [
  {
   "cell_type": "markdown",
   "id": "ea9afd12",
   "metadata": {},
   "source": [
    "# Project Purpose:   the importance of social connection and community engagement for personal health and well-being"
   ]
  },
  {
   "cell_type": "markdown",
   "id": "7080baa1",
   "metadata": {},
   "source": [
    "## Analysis 1\n",
    "## The relationship between the Community Involvement and Life Satisfaction"
   ]
  },
  {
   "cell_type": "markdown",
   "id": "bae2bb91",
   "metadata": {},
   "source": [
    "### Research question"
   ]
  },
  {
   "cell_type": "markdown",
   "id": "282b73dc",
   "metadata": {},
   "source": [
    "Does taking part in community involvement activities have a significant impact on people well-being?"
   ]
  },
  {
   "cell_type": "markdown",
   "id": "cae55d63",
   "metadata": {},
   "source": [
    "### Variables"
   ]
  },
  {
   "cell_type": "markdown",
   "id": "e1bf2099",
   "metadata": {},
   "source": [
    "1. Independent variable: If a person join in community involvement activities<br>\n",
    "This can be measured by many data in the dataset, mainly the data series CONNECTION_community_involvement_xxx like: <br>\n",
    "- CONNECTION_community_involvement_sports_p3m\n",
    "- CONNECTION_community_involvement_civic_p3m\n",
    "- CONNECTION_community_involvement_service_p3m<br>\n",
    "\n",
    "These datas are binary catagorical, only contain Yes/No as useful information.\n"
   ]
  },
  {
   "cell_type": "markdown",
   "id": "a124b499",
   "metadata": {},
   "source": [
    "2. Dependent variable: People well-being<br>\n",
    "This can be measured by the data series WELLNESS_subjective_happiness_scale_xxx like:\n",
    "- WELLNESS_subjective_happiness_scale_happy\n",
    "- WELLNESS_subjective_happiness_scale_peers\n",
    "- WELLNESS_subjective_happiness_scale_always_happy<br>\n",
    "<br>\n",
    "These datas are ordinal variables, they contain the integer 1-7 to measure the extent of happiness\n"
   ]
  },
  {
   "cell_type": "markdown",
   "id": "bca4b267",
   "metadata": {},
   "source": [
    "### Analysis method"
   ]
  },
  {
   "cell_type": "markdown",
   "id": "64c5b7ab",
   "metadata": {},
   "source": [
    "1. Visualisation\n",
    "- Use box plot to show the different quartiles of well-being under Yes/No condition.\n",
    "- Histogram. We can get the mean under Yes/No condition to do the comparision.\n",
    "\n",
    "2. Linear regression. \n",
    "- The model will be：<br>\n",
    "$\\text{People well-being} = \\beta_0 + \\beta_1 * \\text{community_involvement} + \\epsilon$<br>\n",
    "- When \"Yes\", $\\text{community_involvement}= 1$; When \"No\", $\\text{community_involvement}= 0$<br>\n",
    "- Generate the simulated data by **shffling the tags of Yes and No and then call the model**.<br>\n",
    "- Then we can get a sampling distribution of $\\hat\\beta_1$<br>\n",
    "- Then calculate the p-value and compare it with the significance level...\n",
    "\n",
    "3. Bootstrapping for confidence intervals of regression parameters"
   ]
  },
  {
   "cell_type": "markdown",
   "id": "2a7b389a",
   "metadata": {},
   "source": [
    "### Hypothesis and possible results"
   ]
  },
  {
   "cell_type": "markdown",
   "id": "b4bcdce2",
   "metadata": {},
   "source": [
    "- $H_0$:Community involvement does not have a significant impact on well-being. $\\beta_1 = 0$ <br>\n",
    "- $H_A$: Community involvement does have a significant impact on well-being. $\\beta_1 \\neq 0$"
   ]
  },
  {
   "cell_type": "markdown",
   "id": "a181fd4d",
   "metadata": {},
   "source": [
    "**Relevance**: Results will quantify how community involvement contributes to life satisfaction (measured by the happiness_scale series data), providing evidence for community program development. Related to the key word \"community engagement\", \"health and well-being\""
   ]
  },
  {
   "cell_type": "markdown",
   "id": "ba0c51e1",
   "metadata": {},
   "source": [
    "If the p-value is higher than the significance level, indicating we do not have enough evidence to reject the null hypothesis. Which means we cannot reject \"Community involvement does not have a significant impact on well-being.\""
   ]
  },
  {
   "cell_type": "code",
   "execution_count": null,
   "id": "86e4c250",
   "metadata": {},
   "outputs": [],
   "source": []
  },
  {
   "cell_type": "markdown",
   "id": "25bfc1c5",
   "metadata": {},
   "source": [
    "## Analysis 2\n",
    "## The relationship between people's anxiesty and neighborhood relations"
   ]
  },
  {
   "cell_type": "markdown",
   "id": "911ec18d",
   "metadata": {},
   "source": [
    "### Research question"
   ]
  },
  {
   "cell_type": "markdown",
   "id": "47298dcc",
   "metadata": {},
   "source": [
    "Is people's anxiety affected by community/neighborhood relationships?"
   ]
  },
  {
   "cell_type": "markdown",
   "id": "a48cdd0a",
   "metadata": {},
   "source": [
    "### Variables"
   ]
  },
  {
   "cell_type": "markdown",
   "id": "3829d10f",
   "metadata": {},
   "source": [
    "1. Independent variable: Community/neighborhood relationships<br>\n",
    "This can be measured by the data series GEO_robinson_neighbourhood_cohesion_scale_* :\n",
    "- GEO_robinson_neighbourhood_cohesion_scale_belong\n",
    "- GEO_robinson_neighbourhood_cohesion_scale_emergency\n",
    "- GEO_robinson_neighbourhood_cohesion_scale_willing<br>\n",
    "<br>\n",
    "These datas are ordinal variables, they all contain 'strongly disagree'，'disagree'，'agree', 'strongly agree'<br>\n",
    "Coded to 1,2,3,4"
   ]
  },
  {
   "cell_type": "markdown",
   "id": "7cee6fbe",
   "metadata": {},
   "source": [
    "2. Dependent variable:  People's anxiety<br>\n",
    "This can be measured by the data below:\n",
    "- WELLNESS_gad_anxious<br>\n",
    "<br>\n",
    "It is ordinal data, contain 'not at all', 'several days', 'More than half the days', 'Nearly every day'<br>\n",
    "Coded to 1,2,3,4"
   ]
  },
  {
   "cell_type": "markdown",
   "id": "04c8bb1d",
   "metadata": {},
   "source": [
    "### Analysis method"
   ]
  },
  {
   "cell_type": "markdown",
   "id": "e46bf2e1",
   "metadata": {},
   "source": [
    "1. Visualisation\n",
    "- Box plot. show different quartiles of axiety under different neighbourhood relationships."
   ]
  },
  {
   "cell_type": "markdown",
   "id": "52a6de7f",
   "metadata": {},
   "source": [
    "2. Multiple Linear Regression<br>\n",
    "- The model is:<br>$\n",
    "\\text{WELLNESS_gad_anxious} = \\beta_0 + \\beta_1 \\cdot \\text{GEO_robinson_neighbourhood_cohesion_scale_belong} + \\beta_2 \\cdot \\text{GEO_robinson_neighbourhood_cohesion_scale_emergency} + \\beta_3 \\cdot \\text{GEO_robinson_neighbourhood_cohesion_scale_willing} + \\epsilon$\n",
    "<br>\n",
    "<br>\n",
    "- In multiple regression, we need more than one p-value since there are many $\\beta$s\n",
    "\n",
    "\n"
   ]
  },
  {
   "cell_type": "markdown",
   "id": "ace1d15a",
   "metadata": {},
   "source": [
    "3. Bootstrapping for confidence intervals of regression parameters<br>"
   ]
  },
  {
   "cell_type": "markdown",
   "id": "66684687",
   "metadata": {},
   "source": [
    "### Hypothesis and possible results"
   ]
  },
  {
   "cell_type": "markdown",
   "id": "d4011d45",
   "metadata": {},
   "source": [
    "- $H_0$:Neighborhood relationship does not have a significant impact on anxiety levels. ($\\beta_1 = 0$, $\\beta_2 = 0$, $\\beta_3 = 0$)<br>\n",
    "- $H_A$:Neighborhood relationship does have a significant impact on anxiety levels. (at least one $\\beta_i \\neq 0$)"
   ]
  },
  {
   "cell_type": "markdown",
   "id": "6499a697",
   "metadata": {},
   "source": [
    "**Relevance**: Exploring the role of interactions with people within the community can help us understand the critical role social relationships play in the development of anxiety. This is related to what we refer to as \"social connection\" and \"personal health and well-being.\" Anxiety imposes mental and physical stress on individuals, which, over time, may lead to illness. If we can clarify the relationship between community connections and levels of anxiety discussed here, it could help in reducing the occurrence of these negative effects."
   ]
  },
  {
   "cell_type": "markdown",
   "id": "e977a0d9",
   "metadata": {},
   "source": [
    "If the p-value is higher than the significance level, indicating we do not have enough evidence to reject the null hypothesis. Which means we cannot reject \"Neighborhood relationship does not have a significant impact on anxiety levels.\""
   ]
  },
  {
   "cell_type": "code",
   "execution_count": null,
   "id": "28cdd9e1",
   "metadata": {},
   "outputs": [],
   "source": []
  },
  {
   "cell_type": "markdown",
   "id": "beff33a5",
   "metadata": {},
   "source": [
    "## Analysis 3"
   ]
  },
  {
   "cell_type": "markdown",
   "id": "377d1f0e",
   "metadata": {},
   "source": [
    "### Research question"
   ]
  },
  {
   "cell_type": "markdown",
   "id": "d617fcfa",
   "metadata": {},
   "source": [
    "Does the frequency of interactions with friends and family over the past 7 days affect people life satisfaction?"
   ]
  },
  {
   "cell_type": "markdown",
   "id": "a7ed8844",
   "metadata": {},
   "source": [
    "### Variables"
   ]
  },
  {
   "cell_type": "markdown",
   "id": "c5422458",
   "metadata": {},
   "source": [
    "1. Independent variable:  frequency of interactions with friends and family （two variables)<br>\n",
    "This can be measured by the data below:<br>\n",
    "- CONNECTION_social_time_family_p7d_grouped\n",
    "- CONNECTION_social_time_friends_p7d_grouped<br>\n",
    "<br>\n",
    "The data are ordinal, containing \"no time\", \"less than 1 hour\", \"1 to 4 hours\", \"5 or more hours\""
   ]
  },
  {
   "cell_type": "markdown",
   "id": "f11e067d",
   "metadata": {},
   "source": [
    "2. Dependent variable:  life satisfaction<br>\n",
    "This can be measured by:<br>\n",
    "- WELLNESS_life_satisfaction<br>\n",
    "<br>\n",
    "The data are continuous, containing 1.0-10.0"
   ]
  },
  {
   "cell_type": "markdown",
   "id": "e41b0a20",
   "metadata": {},
   "source": [
    "### Analysis method"
   ]
  },
  {
   "cell_type": "markdown",
   "id": "336b525d",
   "metadata": {},
   "source": [
    "1. Visualisation\n",
    "- Box plot. show different quartiles of  life satisfaction under different frequency of interactions with friends and family.\n",
    "\n",
    "2. Multiple Linear Regression<br>\n",
    "- The model will be：<br>\n",
    "$\\text{life satisfaction} = \\beta_0 + \\beta_1 \\times \\text{frequency of interactions with family} + \\beta_2 \\times \\text{frequency of interactions with friends} + \\epsilon$\n",
    "- There are still two p-values\n",
    "-  0 = \"no time\", 1 = \"less than 1 hour\", 2 = \"1 to 4 hours\", 3 = \"5 or more hours\"\n",
    "\n",
    "3. Bootstrapping for confidence intervals of regression parameters"
   ]
  },
  {
   "cell_type": "markdown",
   "id": "ab75bb24",
   "metadata": {},
   "source": [
    "### Hypothesis and possible results"
   ]
  },
  {
   "cell_type": "markdown",
   "id": "408ee1b9",
   "metadata": {},
   "source": [
    "- $H_0$: The frequency of interaction with family and friends has no significant effect on students' life satisfaction. ($\\beta_1 \\text{and} \\beta_2 = 0$)\n",
    "- $H_A$:  The frequency of interaction with family and friends has significant effect on students' life satisfaction. (at least one of $\\beta_1 \\beta_2 \\neq 0$)"
   ]
  },
  {
   "cell_type": "markdown",
   "id": "002bba66",
   "metadata": {},
   "source": [
    "**Relevance**: This study helps quantify the impact of social interactions on life satisfaction, revealing the different roles that family and friends play in well-being and life satisfaction. These analyses can assist mental health professionals and educational institutions in providing effective social support recommendations for peolple, such as encouraging more frequent interactions with family or friends to enhance life satisfaction."
   ]
  },
  {
   "cell_type": "markdown",
   "id": "9455f880",
   "metadata": {},
   "source": [
    "If the p-value is higher than the significance level, indicating we do not have enough evidence to reject the null hypothesis. Which means we cannot reject \"The frequency of interaction with family and friends has no significant effect on students' life satisfaction\""
   ]
  },
  {
   "cell_type": "code",
   "execution_count": null,
   "id": "967758ea",
   "metadata": {},
   "outputs": [],
   "source": []
  }
 ],
 "metadata": {
  "kernelspec": {
   "display_name": "Python 3 (ipykernel)",
   "language": "python",
   "name": "python3"
  },
  "language_info": {
   "codemirror_mode": {
    "name": "ipython",
    "version": 3
   },
   "file_extension": ".py",
   "mimetype": "text/x-python",
   "name": "python",
   "nbconvert_exporter": "python",
   "pygments_lexer": "ipython3",
   "version": "3.11.6"
  }
 },
 "nbformat": 4,
 "nbformat_minor": 5
}
