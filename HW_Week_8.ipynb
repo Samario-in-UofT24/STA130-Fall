{
 "cells": [
  {
   "cell_type": "markdown",
   "id": "06b09970",
   "metadata": {},
   "source": [
    "# STA130 Homework 08"
   ]
  },
  {
   "cell_type": "markdown",
   "id": "cd8a5a51",
   "metadata": {},
   "source": [
    "### Chatlog stack:<br>\n",
    "- Question 1: https://chatgpt.com/share/67393517-e548-8008-9389-7456efe72611\n",
    "- Question 2: https://chatgpt.com/share/673a75ae-cfcc-8008-b9cd-685daac4f6ec\n",
    "- Question 3-4: https://chatgpt.com/share/673c06b1-ac3c-8008-b2f9-46776fda1bd1\n",
    "- Question 6,8-9: https://chatgpt.com/share/673c25f6-74b8-8008-9a76-a353fcece184"
   ]
  },
  {
   "cell_type": "markdown",
   "id": "9dc05c6b",
   "metadata": {},
   "source": [
    "### Question 1.<br>"
   ]
  },
  {
   "cell_type": "markdown",
   "id": "bd772137",
   "metadata": {},
   "source": [
    "#### Part A:<br>\n",
    "**Classification**: Targets are **discrete categories** (e.g., spam or not spam, disease present or absent).<br>\n",
    "**Regression**: Targets are continuous values (e.g., predicting house prices or temperatures).<br>\n",
    " \n",
    "Some examples:\n",
    "- Email Filtering: Classifying emails as “spam” or “not spam.”\n",
    "- Credit Scoring: Approving or denying loan applications based on financial and personal data.\n",
    "\n",
    "Use classification trees when:\n",
    "- The relationship between variables is complex and nonlinear.\n",
    "- You want an interpretable and visual model of interactions.\n",
    "- You don’t know in advance which interactions might be significant.\n",
    "\n",
    "Use interaction terms in regression when:\n",
    "- You have strong domain knowledge suggesting specific interactions.\n",
    "- You are modeling simpler, primarily linear relationships.\n",
    "\n",
    "About the interaction terms in classification decision tree:\n",
    "- The splits in a decision tree divide the data into subgroups, **conditioning later splits on earlier ones**.\n",
    "- This process inherently models interactions, as the importance of a feature in later splits depends on the conditions set by earlier splits."
   ]
  },
  {
   "cell_type": "markdown",
   "id": "71fc1d04",
   "metadata": {},
   "source": [
    "#### Part B:<br>"
   ]
  },
  {
   "cell_type": "markdown",
   "id": "c4b8543b",
   "metadata": {},
   "source": [
    "| **Aspect**               | **Classification Decision Tree**                                     | **Multiple Linear Regression**                                   |\n",
    "|---------------------------|---------------------------------------------------------------------|-----------------------------------------------------------------|\n",
    "| **Flexibility**           | Handles non-linear relationships and interactions effectively.      | Limited to linear relationships unless features are transformed.|\n",
    "| **Interpretability**      | Easy to understand and visualize (via tree structure).              | Coefficients provide direct insight into feature importance.    |\n",
    "| **Target Type**           | Categorical.                                                       | Continuous.                                                    |\n",
    "| **Handling of Outliers**  | Robust to outliers.                                                | Sensitive to outliers.                                         |\n",
    "| **Feature Independence**  | Does not assume independence between features.                     | Assumes features are independent (for reliable coefficient estimates). |\n",
    "\n",
    "When talking about the **outliers**:\n",
    "- Classification: Outliers typically fall into their **own branch or leaf**, meaning they do not significantly influence the structure of the tree\n",
    "- MLR: Outliers can have a disproportionately large influence on the model because their residuals are squared, heavily weighting their impact.\n"
   ]
  },
  {
   "cell_type": "markdown",
   "id": "5af8a212",
   "metadata": {},
   "source": [
    "### Question 2."
   ]
  },
  {
   "cell_type": "markdown",
   "id": "5a5df74e",
   "metadata": {},
   "source": [
    "1. **Accuracy** measures the proportion of true results (both true positives and true negatives) in the population.\n",
    "\n",
    "$$\\text{Accuracy} = \\frac{TP + TN}{TP + TN + FP + FN}$$"
   ]
  },
  {
   "cell_type": "markdown",
   "id": "89672114",
   "metadata": {},
   "source": [
    "#### Examples: <br>\n",
    "Email Spam Detection. A company uses a model to classify emails as either “spam” or “not spam.”\n",
    "\n",
    "#### Rationale:\n",
    "- Both TP (correctly classified spam) and TN (correctly classified legitimate emails) are equally important to measure the system’s effectiveness.\n",
    "- In spam detection, the **cost of a misclassification** might be **balanced** or relatively low. We can find the emails in bin or put the email into bin.\n",
    "\n"
   ]
  },
  {
   "cell_type": "markdown",
   "id": "7d97ab24",
   "metadata": {},
   "source": [
    "2. **Sensitivity** measures the proportion of actual positives that are correctly identified.\n",
    "\n",
    "$$\\text{Sensitivity} = \\frac{TP}{TP + FN}$$"
   ]
  },
  {
   "cell_type": "markdown",
   "id": "f7b77240",
   "metadata": {},
   "source": [
    "#### Example:<br>\n",
    "Medical Diagnostics. E.g. COVID-19\n",
    "#### Rationale: \n",
    "- Sensitivity is suitable for use in scenarios where the cost of FN is high, in order to reduce the significant risks caused by missed reports.\n",
    "- In this case, the cost for FN may cause serious public health security incidents. You know, Wuhan, China. So the institutions tried their best to avoid FN cases."
   ]
  },
  {
   "cell_type": "markdown",
   "id": "3ac17f51",
   "metadata": {},
   "source": [
    "3. **Specificity** measures the proportion of actual negatives that are correctly identified.\n",
    "\n",
    "$$\\text{Specificity} = \\frac{TN}{TN + FP}$$"
   ]
  },
  {
   "cell_type": "markdown",
   "id": "d33fd00a",
   "metadata": {},
   "source": [
    "#### Example:<br>\n",
    "Network security (normal traffic identification)\n",
    "#### Rationale: \n",
    "- Specificity is suitable for use in scenarios where the cost of FP is high, in order to avoid interference with normal operations in network security.\n",
    "- Misjudging normal traffic as malicious traffic (FP) may cause the system to block normal services requests, causing user experience problems or operational interruptions"
   ]
  },
  {
   "cell_type": "markdown",
   "id": "0494c81e",
   "metadata": {},
   "source": [
    "4. **Precision** measures the proportion of positive identifications that were actually correct.\n",
    "$$\\text{Precision} = \\frac{TP}{TP + FP}$$"
   ]
  },
  {
   "cell_type": "markdown",
   "id": "d286e564",
   "metadata": {},
   "source": [
    "#### Example:<br>\n",
    "Product Recommendation in e-commerce platforms\n",
    "#### Rationale: \n",
    "- Precision is crucial when the cost of a FP is high, thus it is undesired. \n",
    "- Recommending irrelevant products (FP) can annoy customers and reduce trust in the recommendation system. The platform may lose revenue due to such reasons. The maeketing resources are also wasted."
   ]
  },
  {
   "cell_type": "code",
   "execution_count": null,
   "id": "fa4ae2c3",
   "metadata": {},
   "outputs": [],
   "source": []
  },
  {
   "cell_type": "markdown",
   "id": "3d54604d",
   "metadata": {},
   "source": [
    "### Question 3.<br>"
   ]
  },
  {
   "cell_type": "code",
   "execution_count": 1,
   "id": "768b6acb",
   "metadata": {},
   "outputs": [],
   "source": [
    "import pandas as pd\n",
    "import numpy as np\n",
    "from sklearn import tree\n",
    "from sklearn.model_selection import train_test_split\n",
    "from sklearn.metrics import confusion_matrix, ConfusionMatrixDisplay\n",
    "from sklearn.metrics import accuracy_score, recall_score, make_scorer\n",
    "import graphviz as gv"
   ]
  },
  {
   "cell_type": "code",
   "execution_count": 2,
   "id": "e4fdb7c1",
   "metadata": {
    "scrolled": true
   },
   "outputs": [
    {
     "name": "stdout",
     "output_type": "stream",
     "text": [
      "Shape of the dataset: (319, 10)\n",
      "Columns in the dataset: ['Title', 'Author', 'List Price', 'Amazon Price', 'Hard_or_Paper', 'NumPages', 'Publisher', 'Pub year', 'ISBN-10', 'Thick']\n",
      "Data types of each column:\n",
      " Title              object\n",
      "Author             object\n",
      "List Price        float64\n",
      "Amazon Price      float64\n",
      "Hard_or_Paper    category\n",
      "NumPages            int64\n",
      "Publisher          object\n",
      "Pub year            int64\n",
      "ISBN-10            object\n",
      "Thick             float64\n",
      "dtype: object\n",
      "Missing values in each column:\n",
      " Title            0\n",
      "Author           0\n",
      "List Price       0\n",
      "Amazon Price     0\n",
      "Hard_or_Paper    0\n",
      "NumPages         0\n",
      "Publisher        0\n",
      "Pub year         0\n",
      "ISBN-10          0\n",
      "Thick            0\n",
      "dtype: int64\n",
      "First few rows of the dataset:\n",
      "                                                Title           Author  \\\n",
      "0  1,001 Facts that Will Scare the S#*t Out of Yo...      Cary McNeal   \n",
      "1  21: Bringing Down the House - Movie Tie-In: Th...      Ben Mezrich   \n",
      "2       100 Best-Loved Poems (Dover Thrift Editions)            Smith   \n",
      "3            1421: The Year China Discovered America    Gavin Menzies   \n",
      "4    1493: Uncovering the New World Columbus Created  Charles C. Mann   \n",
      "\n",
      "   List Price  Amazon Price Hard_or_Paper  NumPages           Publisher  \\\n",
      "0       12.95          5.18             P       304         Adams Media   \n",
      "1       15.00         10.20             P       273          Free Press   \n",
      "2        1.50          1.50             P        96  Dover Publications   \n",
      "3       15.99         10.87             P       672    Harper Perennial   \n",
      "4       30.50         16.77             P       720               Knopf   \n",
      "\n",
      "   Pub year     ISBN-10  Thick  \n",
      "0      2010  1605506249    0.8  \n",
      "1      2008  1416564195    0.7  \n",
      "2      1995   486285537    0.3  \n",
      "3      2008    61564893    1.6  \n",
      "4      2011   307265722    1.4  \n"
     ]
    }
   ],
   "source": [
    "# Load dataset\n",
    "url = \"https://raw.githubusercontent.com/pointOfive/STA130_F23/main/Data/amazonbooks.csv\"\n",
    "ab = pd.read_csv(url, encoding=\"ISO-8859-1\")\n",
    "\n",
    "# Preprocessing\n",
    "# 1. Remove specified columns\n",
    "ab_reduced = ab.drop(columns=[\"Weight_oz\", \"Width\", \"Height\"])\n",
    "\n",
    "# 2. Drop rows with NaN entries and create a new DataFrame explicitly\n",
    "ab_reduced_noNaN = ab_reduced.dropna().copy()\n",
    "\n",
    "# 3. Set data types for specific columns\n",
    "ab_reduced_noNaN[\"Pub year\"] = ab_reduced_noNaN[\"Pub year\"].astype(int)\n",
    "ab_reduced_noNaN[\"NumPages\"] = ab_reduced_noNaN[\"NumPages\"].astype(int)\n",
    "ab_reduced_noNaN[\"Hard_or_Paper\"] = ab_reduced_noNaN[\"Hard_or_Paper\"].astype(\"category\")\n",
    "\n",
    "# Exploratory Data Analysis (EDA)\n",
    "# Summarize dataset\n",
    "print(\"Shape of the dataset:\", ab_reduced_noNaN.shape)\n",
    "print(\"Columns in the dataset:\", ab_reduced_noNaN.columns.tolist())\n",
    "print(\"Data types of each column:\\n\", ab_reduced_noNaN.dtypes)\n",
    "print(\"Missing values in each column:\\n\", ab_reduced_noNaN.isnull().sum())\n",
    "print(\"First few rows of the dataset:\\n\", ab_reduced_noNaN.head())"
   ]
  },
  {
   "cell_type": "code",
   "execution_count": null,
   "id": "ecdab0a3",
   "metadata": {},
   "outputs": [],
   "source": []
  },
  {
   "cell_type": "markdown",
   "id": "8df75e0c",
   "metadata": {},
   "source": [
    "### Question 4.\n",
    "\n",
    "```python\n",
    "y = pd.get_dummies(ab_reduced_noNaN[\"Hard_or_Paper\"])['H']\n",
    "X = ab_reduced_noNaN[['List Price']]\n",
    "```"
   ]
  },
  {
   "cell_type": "markdown",
   "id": "f054725d",
   "metadata": {},
   "source": [
    "`pd.get_dummies(ab_reduced_noNaN[\"Hard_or_Paper\"])['H']`<br>\n",
    "- Converts the categorical column Hard_or_Paper into binary dummy variables. Each unique value in the Hard_or_Paper column becomes a separate binary (0/1) column.\n",
    "- `['H']`: This means hardcover book will have 1, while papercover book have 0"
   ]
  },
  {
   "cell_type": "markdown",
   "id": "cee73b73",
   "metadata": {},
   "source": [
    "`ab_reduced_noNaN[['List Price']]`<br>\n",
    "1. Select the List Price column from the DataFrame as predictor variable for the model."
   ]
  },
  {
   "cell_type": "code",
   "execution_count": 3,
   "id": "e92dd8d2",
   "metadata": {
    "scrolled": false
   },
   "outputs": [
    {
     "name": "stdout",
     "output_type": "stream",
     "text": [
      "Training data observations: 255\n",
      "Testing data observations: 64\n"
     ]
    },
    {
     "ename": "NameError",
     "evalue": "name 'plt' is not defined",
     "output_type": "error",
     "traceback": [
      "\u001b[0;31m---------------------------------------------------------------------------\u001b[0m",
      "\u001b[0;31mNameError\u001b[0m                                 Traceback (most recent call last)",
      "Cell \u001b[0;32mIn[3], line 24\u001b[0m\n\u001b[1;32m     22\u001b[0m \u001b[38;5;66;03m# Visualize the tree\u001b[39;00m\n\u001b[1;32m     23\u001b[0m tree\u001b[38;5;241m.\u001b[39mplot_tree(clf, feature_names\u001b[38;5;241m=\u001b[39m[\u001b[38;5;124m\"\u001b[39m\u001b[38;5;124mList Price\u001b[39m\u001b[38;5;124m\"\u001b[39m], class_names\u001b[38;5;241m=\u001b[39m[\u001b[38;5;124m\"\u001b[39m\u001b[38;5;124mPaperback\u001b[39m\u001b[38;5;124m\"\u001b[39m, \u001b[38;5;124m\"\u001b[39m\u001b[38;5;124mHardback\u001b[39m\u001b[38;5;124m\"\u001b[39m], filled\u001b[38;5;241m=\u001b[39m\u001b[38;5;28;01mTrue\u001b[39;00m)\n\u001b[0;32m---> 24\u001b[0m \u001b[43mplt\u001b[49m\u001b[38;5;241m.\u001b[39mshow()\n",
      "\u001b[0;31mNameError\u001b[0m: name 'plt' is not defined"
     ]
    },
    {
     "data": {
      "image/png": "[encoded data removed]",
      "text/plain": [
       "<Figure size 640x480 with 1 Axes>"
      ]
     },
     "metadata": {},
     "output_type": "display_data"
    }
   ],
   "source": [
    "from sklearn.model_selection import train_test_split\n",
    "from sklearn.tree import DecisionTreeClassifier\n",
    "from sklearn import tree\n",
    "\n",
    "# Create an 80/20 train-test split\n",
    "ab_reduced_noNaN_train, ab_reduced_noNaN_test = train_test_split(\n",
    "    ab_reduced_noNaN, test_size=0.2, random_state=42\n",
    ")\n",
    "\n",
    "# Print sizes of training and testing datasets\n",
    "print(f\"Training data observations: {len(ab_reduced_noNaN_train)}\")\n",
    "print(f\"Testing data observations: {len(ab_reduced_noNaN_test)}\")\n",
    "\n",
    "# Extract features and labels for training\n",
    "y_train = pd.get_dummies(ab_reduced_noNaN_train[\"Hard_or_Paper\"])['H']\n",
    "X_train = ab_reduced_noNaN_train[[\"List Price\"]]\n",
    "\n",
    "# Train the DecisionTreeClassifier with max_depth=2\n",
    "clf = DecisionTreeClassifier(max_depth=2, random_state=42)\n",
    "clf.fit(X_train, y_train)\n",
    "\n",
    "# Visualize the tree\n",
    "tree.plot_tree(clf, feature_names=[\"List Price\"], class_names=[\"Paperback\", \"Hardback\"], filled=True)\n",
    "plt.show()"
   ]
  },
  {
   "cell_type": "code",
   "execution_count": null,
   "id": "34395789",
   "metadata": {},
   "outputs": [],
   "source": []
  },
  {
   "cell_type": "markdown",
   "id": "d0c23fb2",
   "metadata": {},
   "source": [
    "### 5. Repeat the previous problem but this time visualize the *classification decision tree* based on the following specifications below; then explain generally how predictions are made for the *clf2* model<br>\n",
    "\n",
    "1. `X = ab_reduced_noNaN[['NumPages', 'Thick', 'List Price']]`\n",
    "2. `max_depth` set to `4`"
   ]
  },
  {
   "cell_type": "code",
   "execution_count": null,
   "id": "7172e22f",
   "metadata": {
    "scrolled": false
   },
   "outputs": [],
   "source": [
    "import pandas as pd\n",
    "from sklearn.tree import DecisionTreeClassifier\n",
    "from sklearn.model_selection import train_test_split\n",
    "from sklearn import tree\n",
    "import matplotlib.pyplot as plt\n",
    "import graphviz\n",
    "\n",
    "# Step 1: Load and preprocess the data\n",
    "url = \"https://raw.githubusercontent.com/pointOfive/STA130_F23/main/Data/amazonbooks.csv\"\n",
    "ab = pd.read_csv(url, encoding=\"ISO-8859-1\")\n",
    "\n",
    "# Subset to relevant columns and drop NaN values\n",
    "columns_of_interest = [\"Hard_or_Paper\", \"NumPages\", \"Thick\", \"List Price\"]\n",
    "ab_reduced = ab[columns_of_interest]\n",
    "ab_reduced_noNaN = ab_reduced.dropna().copy()\n",
    "\n",
    "# Convert \"Hard_or_Paper\" to a binary variable using one-hot encoding\n",
    "y = pd.get_dummies(ab_reduced_noNaN[\"Hard_or_Paper\"])['H']\n",
    "X = ab_reduced_noNaN[['NumPages', 'Thick', 'List Price']]\n",
    "\n",
    "# Step 2: Split the data into training and testing sets\n",
    "X_train, X_test, y_train, y_test = train_test_split(X, y, test_size=0.2, random_state=42)\n",
    "\n",
    "# Step 3: Train a decision tree classifier with max_depth=4\n",
    "clf2 = DecisionTreeClassifier(max_depth=4, random_state=42)\n",
    "clf2.fit(X_train, y_train)\n",
    "\n",
    "# Step 4: Visualize the decision tree using tree.plot_tree\n",
    "plt.figure(figsize=(20, 12))\n",
    "tree.plot_tree(clf2, feature_names=['NumPages', 'Thick', 'List Price'], \n",
    "               class_names=['Paperback', 'Hardcover'], filled=True)\n",
    "plt.show()"
   ]
  },
  {
   "cell_type": "markdown",
   "id": "98ebddfe",
   "metadata": {},
   "source": [
    "### 6. Use previously created *ab_reduced_noNaN_test* to create confusion matrices for *clf* and *clf2*. Report the sensitivity, specificity and accuracy for each of the models<br>"
   ]
  },
  {
   "cell_type": "code",
   "execution_count": null,
   "id": "b47bb053",
   "metadata": {},
   "outputs": [],
   "source": [
    "from sklearn.metrics import confusion_matrix, ConfusionMatrixDisplay, accuracy_score, recall_score\n",
    "\n",
    "# Prepare test data\n",
    "X_test = ab_reduced_noNaN_test[[\"List Price\"]]\n",
    "y_test = pd.get_dummies(ab_reduced_noNaN_test[\"Hard_or_Paper\"])['H']\n",
    "\n",
    "# Predictions for clf\n",
    "y_pred_clf = clf.predict(X_test)\n",
    "\n",
    "# Confusion Matrix for clf\n",
    "cm_clf = confusion_matrix(y_test, y_pred_clf)\n",
    "disp_clf = ConfusionMatrixDisplay(confusion_matrix=cm_clf, display_labels=[\"Paperback\", \"Hardback\"])\n",
    "disp_clf.plot(cmap=\"Blues\", values_format=\".3f\")\n",
    "plt.title(\"Confusion Matrix for clf\")\n",
    "plt.show()\n",
    "\n",
    "# Calculate metrics for clf\n",
    "sensitivity_clf = recall_score(y_test, y_pred_clf)\n",
    "specificity_clf = cm_clf[0, 0] / (cm_clf[0, 0] + cm_clf[0, 1])\n",
    "accuracy_clf = accuracy_score(y_test, y_pred_clf)\n",
    "\n",
    "# Test for clf2\n",
    "X_test2 = ab_reduced_noNaN_test[[\"NumPages\", \"Thick\", \"List Price\"]]\n",
    "y_pred_clf2 = clf2.predict(X_test2)\n",
    "\n",
    "# Confusion Matrix for clf2\n",
    "cm_clf2 = confusion_matrix(y_test, y_pred_clf2)\n",
    "disp_clf2 = ConfusionMatrixDisplay(confusion_matrix=cm_clf2, display_labels=[\"Paperback\", \"Hardback\"])\n",
    "disp_clf2.plot(cmap=\"Blues\", values_format=\".3f\")\n",
    "plt.title(\"Confusion Matrix for clf2\")\n",
    "plt.show()\n",
    "\n",
    "# Calculate metrics for clf2\n",
    "sensitivity_clf2 = recall_score(y_test, y_pred_clf2)\n",
    "specificity_clf2 = cm_clf2[0, 0] / (cm_clf2[0, 0] + cm_clf2[0, 1])\n",
    "accuracy_clf2 = accuracy_score(y_test, y_pred_clf2)\n",
    "\n",
    "# Display results\n",
    "print(f\"clf Metrics: Sensitivity = {sensitivity_clf:.3f}, Specificity = {specificity_clf:.3f}, Accuracy = {accuracy_clf:.3f}\")\n",
    "print(f\"clf2 Metrics: Sensitivity = {sensitivity_clf2:.3f}, Specificity = {specificity_clf2:.3f}, Accuracy = {accuracy_clf2:.3f}\")"
   ]
  },
  {
   "cell_type": "markdown",
   "id": "9d034fca",
   "metadata": {},
   "source": [
    "### 7. Explain in three to four sentences what is causing the differences between the following two confusion matrices below, and why the two confusion matrices above (for *clf* and *clf2*) are better<br>\n",
    "\n",
    "```python\n",
    "ConfusionMatrixDisplay(\n",
    "    confusion_matrix(ab_reduced_noNaN_train.your_actual_outcome_variable, \n",
    "                     clf.predict(ab_reduced_noNaN_train[['List Price']]), \n",
    "                     labels=[0, 1]), display_labels=[\"Paper\",\"Hard\"]).plot()\n",
    "ConfusionMatrixDisplay(\n",
    "    confusion_matrix(ab_reduced_noNaN_train.your_actual_outcome_variable, \n",
    "                     clf.predict(\n",
    "                         ab_reduced_noNaN_train[['NumPages','Thick','List Price']]), \n",
    "                     labels=[0, 1]), display_labels=[\"Paper\",\"Hard\"]).plot()\n",
    "```"
   ]
  },
  {
   "cell_type": "markdown",
   "id": "0f97a54c",
   "metadata": {},
   "source": [
    "#### Differences between the two matrices here:<br>\n",
    "- `model 1` uses only `List Price` to distinguish between the Paper and Hard cover, resulting in a simple model that cannot generalize well to the test data. <br>\n",
    "- `model 2` incorporates multiple features, including `NumPages`, `Thick`, and `List Price`, making the classification more comprehensive and complex. This allows the model to better fit the data, reduce bias, improve accuracy, and enhance generalization ability when dealing with unobserved data.\n",
    "\n",
    "#### Why the two above are better:\n",
    "- `clf` shows higher sensitivity, which means it better at identifying true positives\n",
    "- `clf2` shows higher specificity and overall higher accuracy\n",
    "-  These two are better because they evaluate the models with **test data**, which was not seen during training. This ensure that the metrics reflect the models' ability to generalize to unobserved data.<br>\n",
    "The two models provided above evaluate the model with the **training data**, which may lead to overfitting due to mullticollinearity.\n",
    "\n",
    "The model should always be evaluated on test data for a fair assessment of predicative performance."
   ]
  },
  {
   "cell_type": "markdown",
   "id": "d335bb27",
   "metadata": {},
   "source": [
    "\n",
    "### 8. Read the paragraphs in *Further Guidance* and ask a ChatBot how to visualize *feature Importances* available for *scikit-learn* *classification decision trees*; do so for *clf2*;  and use *.feature_names_in_* corresponding to *.feature_importances_* to report which *predictor variable* is most important for making predictions according to *clf2*<br>"
   ]
  },
  {
   "cell_type": "code",
   "execution_count": null,
   "id": "d380f3f7",
   "metadata": {},
   "outputs": [],
   "source": [
    "import matplotlib.pyplot as plt\n",
    "import numpy as np\n",
    "\n",
    "# Extract feature importances\n",
    "feature_importances = clf2.feature_importances_\n",
    "feature_names = ['NumPages', 'Thick', 'List Price']\n",
    "\n",
    "# Plot feature importances as a bar chart\n",
    "plt.figure(figsize=(10, 6))\n",
    "plt.barh(feature_names, feature_importances, align='center')\n",
    "plt.xlabel('Feature Importance')\n",
    "plt.ylabel('Feature')\n",
    "plt.title('Feature Importances for clf2')\n",
    "plt.grid(True)\n",
    "plt.show()"
   ]
  },
  {
   "cell_type": "code",
   "execution_count": null,
   "id": "af1843b5",
   "metadata": {},
   "outputs": [],
   "source": [
    "# Access feature importances and their corresponding names\n",
    "feature_importances = clf2.feature_importances_\n",
    "feature_names = clf2.feature_names_in_\n",
    "\n",
    "# Identify the most important feature\n",
    "most_important_index = np.argmax(feature_importances)\n",
    "most_important_feature = feature_names[most_important_index]\n",
    "\n",
    "# Report the most important predictor\n",
    "print(f\"The most important predictor variable is: '{most_important_feature}' with an importance of {feature_importances[most_important_index]:.4f}\")"
   ]
  },
  {
   "cell_type": "code",
   "execution_count": null,
   "id": "ee54b4cf",
   "metadata": {},
   "outputs": [],
   "source": []
  },
  {
   "cell_type": "markdown",
   "id": "d01c8806",
   "metadata": {},
   "source": [
    "### 9. Describe the differences of interpreting coefficients in linear model regression versus feature importances in decision trees in two to three sentences<br>"
   ]
  },
  {
   "cell_type": "markdown",
   "id": "1e372dd4",
   "metadata": {},
   "source": [
    "- In linear regression models, coefficients represent the direct relationship between each predictor and the target variable, assuming all other predictors are held constant. They indicate the magnitude and direction (positive or negative) of the effect of a unit change in a predictor. \n",
    "- Feature importances in decision trees reflect how much a feature contributes to **reducing impurity** (e.g., Gini or entropy) across splits in the tree, making them less straightforward to interpret in terms of direct effect but useful for understanding relative importance in predictions.<br>\n",
    "Least impurity, best split constructed."
   ]
  },
  {
   "cell_type": "code",
   "execution_count": null,
   "id": "a5cc8521",
   "metadata": {},
   "outputs": [],
   "source": []
  },
  {
   "cell_type": "markdown",
   "id": "cb68d6b6",
   "metadata": {},
   "source": [
    "### 10. Have you reviewed the course wiki-textbook and interacted with a ChatBot (or, if that wasn't sufficient, real people in the course piazza discussion board or TA office hours) to help you understand all the material in the tutorial and lecture that you didn't quite follow when you first saw it?<br>"
   ]
  },
  {
   "cell_type": "markdown",
   "id": "6729197b",
   "metadata": {},
   "source": [
    "I am always on the way to do it XD"
   ]
  }
 ],
 "metadata": {
  "kernelspec": {
   "display_name": "Python 3 (ipykernel)",
   "language": "python",
   "name": "python3"
  },
  "language_info": {
   "codemirror_mode": {
    "name": "ipython",
    "version": 3
   },
   "file_extension": ".py",
   "mimetype": "text/x-python",
   "name": "python",
   "nbconvert_exporter": "python",
   "pygments_lexer": "ipython3",
   "version": "3.11.6"
  }
 },
 "nbformat": 4,
 "nbformat_minor": 5
}
